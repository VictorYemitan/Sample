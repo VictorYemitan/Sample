{
 "cells": [
  {
   "cell_type": "code",
   "execution_count": 31,
   "metadata": {},
   "outputs": [],
   "source": [
    "from random import randint\n",
    "\n",
    "def Mara_num(n):\n",
    "    if n == randint(0, 20):\n",
    "        print(\"You are right\")\n",
    "    else:\n",
    "        print(\"Wrong! You fucked up\")"
   ]
  },
  {
   "cell_type": "code",
   "execution_count": 32,
   "metadata": {},
   "outputs": [
    {
     "name": "stdout",
     "output_type": "stream",
     "text": [
      "Wrong! You fucked up\n"
     ]
    }
   ],
   "source": [
    "Mara_num(6)"
   ]
  },
  {
   "cell_type": "code",
   "execution_count": 41,
   "metadata": {},
   "outputs": [
    {
     "name": "stdout",
     "output_type": "stream",
     "text": [
      "{1, 2, 3, 4, 5}\n"
     ]
    }
   ],
   "source": [
    "L = [1,2,3,4,5]\n",
    "\n",
    "count = 0\n",
    "# for i in L:\n",
    "#     count+= i\n",
    "# print(count)\n",
    "\n",
    "Lnew = {count+i for i in L}\n",
    "print(Lnew)"
   ]
  },
  {
   "cell_type": "code",
   "execution_count": null,
   "metadata": {},
   "outputs": [],
   "source": []
  },
  {
   "cell_type": "code",
   "execution_count": 2,
   "metadata": {},
   "outputs": [
    {
     "data": {
      "text/html": [
       "<div>\n",
       "<style scoped>\n",
       "    .dataframe tbody tr th:only-of-type {\n",
       "        vertical-align: middle;\n",
       "    }\n",
       "\n",
       "    .dataframe tbody tr th {\n",
       "        vertical-align: top;\n",
       "    }\n",
       "\n",
       "    .dataframe thead th {\n",
       "        text-align: right;\n",
       "    }\n",
       "</style>\n",
       "<table border=\"1\" class=\"dataframe\">\n",
       "  <thead>\n",
       "    <tr style=\"text-align: right;\">\n",
       "      <th></th>\n",
       "      <th>data</th>\n",
       "    </tr>\n",
       "  </thead>\n",
       "  <tbody>\n",
       "    <tr>\n",
       "      <td>0</td>\n",
       "      <td>1</td>\n",
       "    </tr>\n",
       "  </tbody>\n",
       "</table>\n",
       "</div>"
      ],
      "text/plain": [
       "   data\n",
       "0     1"
      ]
     },
     "execution_count": 2,
     "metadata": {},
     "output_type": "execute_result"
    }
   ],
   "source": [
    "import pandas as pd\n",
    "pd.get_dummies('data')"
   ]
  },
  {
   "cell_type": "code",
   "execution_count": 10,
   "metadata": {},
   "outputs": [
    {
     "data": {
      "text/plain": [
       "2"
      ]
     },
     "execution_count": 10,
     "metadata": {},
     "output_type": "execute_result"
    }
   ],
   "source": [
    "import numpy as np\n",
    "np.array([[1, 2, 3], [4, 5, 6], [7, 8, 9]]).ndim"
   ]
  },
  {
   "cell_type": "code",
   "execution_count": 17,
   "metadata": {},
   "outputs": [
    {
     "data": {
      "text/plain": [
       "array([5, 5, 5, 5, 5, 5])"
      ]
     },
     "execution_count": 17,
     "metadata": {},
     "output_type": "execute_result"
    }
   ],
   "source": [
    "np.full((6,), 5)"
   ]
  },
  {
   "cell_type": "code",
   "execution_count": 28,
   "metadata": {},
   "outputs": [
    {
     "data": {
      "text/plain": [
       "(5, 5)"
      ]
     },
     "execution_count": 28,
     "metadata": {},
     "output_type": "execute_result"
    }
   ],
   "source": [
    "np.array([list(range(5))]*5).shape"
   ]
  },
  {
   "cell_type": "code",
   "execution_count": 29,
   "metadata": {},
   "outputs": [
    {
     "data": {
      "text/plain": [
       "(25,)"
      ]
     },
     "execution_count": 29,
     "metadata": {},
     "output_type": "execute_result"
    }
   ],
   "source": [
    "np.array(list(range(5))*5).shape"
   ]
  },
  {
   "cell_type": "code",
   "execution_count": 40,
   "metadata": {},
   "outputs": [
    {
     "data": {
      "text/plain": [
       "<function numpy.empty>"
      ]
     },
     "execution_count": 40,
     "metadata": {},
     "output_type": "execute_result"
    }
   ],
   "source": [
    "np.empty"
   ]
  },
  {
   "cell_type": "code",
   "execution_count": 44,
   "metadata": {},
   "outputs": [
    {
     "name": "stdout",
     "output_type": "stream",
     "text": [
      "[[9 1 7]\n",
      " [7 8 1]]\n",
      "[[6 4 5]\n",
      " [3 3 6]]\n"
     ]
    },
    {
     "data": {
      "text/plain": [
       "array([9, 7, 7, 8])"
      ]
     },
     "execution_count": 44,
     "metadata": {},
     "output_type": "execute_result"
    }
   ],
   "source": [
    "array1 = np.random.randint(1, 10, (2,3))\n",
    "array2 = np.random.randint(1, 10, (2,3))\n",
    "\n",
    "\n",
    "print(array1)\n",
    "print(array2)\n",
    "array1[array1 > array2]"
   ]
  },
  {
   "cell_type": "code",
   "execution_count": 48,
   "metadata": {},
   "outputs": [],
   "source": [
    "import pandas as pd\n",
    "\n",
    "df = pd.DataFrame(array1, columns=['a','b', 'c'])"
   ]
  },
  {
   "cell_type": "code",
   "execution_count": 51,
   "metadata": {},
   "outputs": [
    {
     "data": {
      "text/plain": [
       "7"
      ]
     },
     "execution_count": 51,
     "metadata": {},
     "output_type": "execute_result"
    }
   ],
   "source": [
    "df['a'][1]"
   ]
  },
  {
   "cell_type": "code",
   "execution_count": 74,
   "metadata": {},
   "outputs": [
    {
     "data": {
      "text/html": [
       "<div>\n",
       "<style scoped>\n",
       "    .dataframe tbody tr th:only-of-type {\n",
       "        vertical-align: middle;\n",
       "    }\n",
       "\n",
       "    .dataframe tbody tr th {\n",
       "        vertical-align: top;\n",
       "    }\n",
       "\n",
       "    .dataframe thead th {\n",
       "        text-align: right;\n",
       "    }\n",
       "</style>\n",
       "<table border=\"1\" class=\"dataframe\">\n",
       "  <thead>\n",
       "    <tr style=\"text-align: right;\">\n",
       "      <th></th>\n",
       "      <th>a</th>\n",
       "      <th>b</th>\n",
       "    </tr>\n",
       "  </thead>\n",
       "  <tbody>\n",
       "    <tr>\n",
       "      <td>0</td>\n",
       "      <td>9</td>\n",
       "      <td>1</td>\n",
       "    </tr>\n",
       "    <tr>\n",
       "      <td>1</td>\n",
       "      <td>7</td>\n",
       "      <td>8</td>\n",
       "    </tr>\n",
       "  </tbody>\n",
       "</table>\n",
       "</div>"
      ],
      "text/plain": [
       "   a  b\n",
       "0  9  1\n",
       "1  7  8"
      ]
     },
     "execution_count": 74,
     "metadata": {},
     "output_type": "execute_result"
    }
   ],
   "source": [
    "df.iloc[:2, [0, 1]]"
   ]
  },
  {
   "cell_type": "code",
   "execution_count": 484,
   "metadata": {},
   "outputs": [],
   "source": [
    "df_dict = { 'Country' : [ 'Ghana' , np.nan , 'Nigeria' , 'Togo' ],\n",
    "'Capital' : [ 'Accra' , 'Nairobi' , None , None ],\n",
    "'Population' : [ 10000, 8500, 35000, 12000 ],\n",
    "'Age' : [ 60, 70, 80, np.nan ]}"
   ]
  },
  {
   "cell_type": "code",
   "execution_count": 485,
   "metadata": {},
   "outputs": [
    {
     "data": {
      "text/html": [
       "<div>\n",
       "<style scoped>\n",
       "    .dataframe tbody tr th:only-of-type {\n",
       "        vertical-align: middle;\n",
       "    }\n",
       "\n",
       "    .dataframe tbody tr th {\n",
       "        vertical-align: top;\n",
       "    }\n",
       "\n",
       "    .dataframe thead th {\n",
       "        text-align: right;\n",
       "    }\n",
       "</style>\n",
       "<table border=\"1\" class=\"dataframe\">\n",
       "  <thead>\n",
       "    <tr style=\"text-align: right;\">\n",
       "      <th></th>\n",
       "      <th>Country</th>\n",
       "      <th>Capital</th>\n",
       "      <th>Population</th>\n",
       "      <th>Age</th>\n",
       "    </tr>\n",
       "  </thead>\n",
       "  <tbody>\n",
       "    <tr>\n",
       "      <td>a</td>\n",
       "      <td>Ghana</td>\n",
       "      <td>Accra</td>\n",
       "      <td>10000</td>\n",
       "      <td>60.0</td>\n",
       "    </tr>\n",
       "    <tr>\n",
       "      <td>b</td>\n",
       "      <td>NaN</td>\n",
       "      <td>Nairobi</td>\n",
       "      <td>8500</td>\n",
       "      <td>70.0</td>\n",
       "    </tr>\n",
       "    <tr>\n",
       "      <td>c</td>\n",
       "      <td>Nigeria</td>\n",
       "      <td>None</td>\n",
       "      <td>35000</td>\n",
       "      <td>80.0</td>\n",
       "    </tr>\n",
       "    <tr>\n",
       "      <td>d</td>\n",
       "      <td>Togo</td>\n",
       "      <td>None</td>\n",
       "      <td>12000</td>\n",
       "      <td>NaN</td>\n",
       "    </tr>\n",
       "  </tbody>\n",
       "</table>\n",
       "</div>"
      ],
      "text/plain": [
       "   Country  Capital  Population   Age\n",
       "a    Ghana    Accra       10000  60.0\n",
       "b      NaN  Nairobi        8500  70.0\n",
       "c  Nigeria     None       35000  80.0\n",
       "d     Togo     None       12000   NaN"
      ]
     },
     "execution_count": 485,
     "metadata": {},
     "output_type": "execute_result"
    }
   ],
   "source": [
    "df = pd.DataFrame(df_dict, index=['a', 'b', 'c', 'd'])\n",
    "df"
   ]
  },
  {
   "cell_type": "code",
   "execution_count": 486,
   "metadata": {},
   "outputs": [
    {
     "data": {
      "text/plain": [
       "Country       1\n",
       "Capital       2\n",
       "Population    0\n",
       "Age           1\n",
       "dtype: int64"
      ]
     },
     "execution_count": 486,
     "metadata": {},
     "output_type": "execute_result"
    }
   ],
   "source": [
    "df.isnull().sum()"
   ]
  },
  {
   "cell_type": "code",
   "execution_count": 487,
   "metadata": {},
   "outputs": [
    {
     "data": {
      "text/html": [
       "<div>\n",
       "<style scoped>\n",
       "    .dataframe tbody tr th:only-of-type {\n",
       "        vertical-align: middle;\n",
       "    }\n",
       "\n",
       "    .dataframe tbody tr th {\n",
       "        vertical-align: top;\n",
       "    }\n",
       "\n",
       "    .dataframe thead th {\n",
       "        text-align: right;\n",
       "    }\n",
       "</style>\n",
       "<table border=\"1\" class=\"dataframe\">\n",
       "  <thead>\n",
       "    <tr style=\"text-align: right;\">\n",
       "      <th></th>\n",
       "      <th>Country</th>\n",
       "      <th>Capital</th>\n",
       "      <th>Population</th>\n",
       "      <th>Age</th>\n",
       "    </tr>\n",
       "  </thead>\n",
       "  <tbody>\n",
       "    <tr>\n",
       "      <td>a</td>\n",
       "      <td>Ghana</td>\n",
       "      <td>Accra</td>\n",
       "      <td>10000</td>\n",
       "      <td>60.0</td>\n",
       "    </tr>\n",
       "  </tbody>\n",
       "</table>\n",
       "</div>"
      ],
      "text/plain": [
       "  Country Capital  Population   Age\n",
       "a   Ghana   Accra       10000  60.0"
      ]
     },
     "execution_count": 487,
     "metadata": {},
     "output_type": "execute_result"
    }
   ],
   "source": [
    "df[(df.notnull().all(axis=1))]"
   ]
  },
  {
   "cell_type": "code",
   "execution_count": 488,
   "metadata": {},
   "outputs": [
    {
     "data": {
      "text/html": [
       "<div>\n",
       "<style scoped>\n",
       "    .dataframe tbody tr th:only-of-type {\n",
       "        vertical-align: middle;\n",
       "    }\n",
       "\n",
       "    .dataframe tbody tr th {\n",
       "        vertical-align: top;\n",
       "    }\n",
       "\n",
       "    .dataframe thead th {\n",
       "        text-align: right;\n",
       "    }\n",
       "</style>\n",
       "<table border=\"1\" class=\"dataframe\">\n",
       "  <thead>\n",
       "    <tr style=\"text-align: right;\">\n",
       "      <th></th>\n",
       "      <th>Country</th>\n",
       "      <th>Capital</th>\n",
       "      <th>Population</th>\n",
       "      <th>Age</th>\n",
       "    </tr>\n",
       "  </thead>\n",
       "  <tbody>\n",
       "    <tr>\n",
       "      <td>a</td>\n",
       "      <td>Ghana</td>\n",
       "      <td>Accra</td>\n",
       "      <td>10000</td>\n",
       "      <td>60.0</td>\n",
       "    </tr>\n",
       "    <tr>\n",
       "      <td>b</td>\n",
       "      <td>NaN</td>\n",
       "      <td>Nairobi</td>\n",
       "      <td>8500</td>\n",
       "      <td>70.0</td>\n",
       "    </tr>\n",
       "    <tr>\n",
       "      <td>c</td>\n",
       "      <td>Nigeria</td>\n",
       "      <td>None</td>\n",
       "      <td>35000</td>\n",
       "      <td>80.0</td>\n",
       "    </tr>\n",
       "    <tr>\n",
       "      <td>d</td>\n",
       "      <td>Togo</td>\n",
       "      <td>None</td>\n",
       "      <td>12000</td>\n",
       "      <td>NaN</td>\n",
       "    </tr>\n",
       "  </tbody>\n",
       "</table>\n",
       "</div>"
      ],
      "text/plain": [
       "   Country  Capital  Population   Age\n",
       "a    Ghana    Accra       10000  60.0\n",
       "b      NaN  Nairobi        8500  70.0\n",
       "c  Nigeria     None       35000  80.0\n",
       "d     Togo     None       12000   NaN"
      ]
     },
     "execution_count": 488,
     "metadata": {},
     "output_type": "execute_result"
    }
   ],
   "source": [
    "df"
   ]
  },
  {
   "cell_type": "code",
   "execution_count": 489,
   "metadata": {},
   "outputs": [
    {
     "data": {
      "text/plain": [
       "c    Nigeria\n",
       "Name: Country, dtype: object"
      ]
     },
     "execution_count": 489,
     "metadata": {},
     "output_type": "execute_result"
    }
   ],
   "source": [
    "df[(df['Country']=='Nigeria') & (df['Population']==35000)]['Country']"
   ]
  },
  {
   "cell_type": "code",
   "execution_count": 490,
   "metadata": {},
   "outputs": [
    {
     "data": {
      "text/html": [
       "<div>\n",
       "<style scoped>\n",
       "    .dataframe tbody tr th:only-of-type {\n",
       "        vertical-align: middle;\n",
       "    }\n",
       "\n",
       "    .dataframe tbody tr th {\n",
       "        vertical-align: top;\n",
       "    }\n",
       "\n",
       "    .dataframe thead th {\n",
       "        text-align: right;\n",
       "    }\n",
       "</style>\n",
       "<table border=\"1\" class=\"dataframe\">\n",
       "  <thead>\n",
       "    <tr style=\"text-align: right;\">\n",
       "      <th></th>\n",
       "      <th>Country</th>\n",
       "      <th>Capital</th>\n",
       "      <th>Population</th>\n",
       "      <th>Age</th>\n",
       "    </tr>\n",
       "  </thead>\n",
       "  <tbody>\n",
       "    <tr>\n",
       "      <td>a</td>\n",
       "      <td>Ghana</td>\n",
       "      <td>Accra</td>\n",
       "      <td>10000</td>\n",
       "      <td>60.0</td>\n",
       "    </tr>\n",
       "    <tr>\n",
       "      <td>b</td>\n",
       "      <td>0</td>\n",
       "      <td>Nairobi</td>\n",
       "      <td>8500</td>\n",
       "      <td>70.0</td>\n",
       "    </tr>\n",
       "    <tr>\n",
       "      <td>c</td>\n",
       "      <td>Nigeria</td>\n",
       "      <td>1</td>\n",
       "      <td>35000</td>\n",
       "      <td>80.0</td>\n",
       "    </tr>\n",
       "    <tr>\n",
       "      <td>d</td>\n",
       "      <td>Togo</td>\n",
       "      <td>1</td>\n",
       "      <td>12000</td>\n",
       "      <td>70.0</td>\n",
       "    </tr>\n",
       "  </tbody>\n",
       "</table>\n",
       "</div>"
      ],
      "text/plain": [
       "   Country  Capital  Population   Age\n",
       "a    Ghana    Accra       10000  60.0\n",
       "b        0  Nairobi        8500  70.0\n",
       "c  Nigeria        1       35000  80.0\n",
       "d     Togo        1       12000  70.0"
      ]
     },
     "execution_count": 490,
     "metadata": {},
     "output_type": "execute_result"
    }
   ],
   "source": [
    "df.fillna({'Country': 0, 'Capital':1, 'Age': df['Age'].mean()})"
   ]
  },
  {
   "cell_type": "code",
   "execution_count": 491,
   "metadata": {},
   "outputs": [],
   "source": [
    "dff = df.fillna(df.median())"
   ]
  },
  {
   "cell_type": "code",
   "execution_count": 492,
   "metadata": {},
   "outputs": [
    {
     "data": {
      "text/plain": [
       "array([60., 70., 80., 70.])"
      ]
     },
     "execution_count": 492,
     "metadata": {},
     "output_type": "execute_result"
    }
   ],
   "source": [
    "dff.Age.values"
   ]
  },
  {
   "cell_type": "code",
   "execution_count": 493,
   "metadata": {},
   "outputs": [],
   "source": [
    "import matplotlib.pyplot as plt\n",
    "import seaborn as sns"
   ]
  },
  {
   "cell_type": "code",
   "execution_count": 497,
   "metadata": {},
   "outputs": [
    {
     "data": {
      "image/png": "[encoded data removed]",
      "text/plain": [
       "<Figure size 432x288 with 1 Axes>"
      ]
     },
     "metadata": {},
     "output_type": "display_data"
    }
   ],
   "source": [
    "a = sns.barplot(x='Country', y='Age', data=dff)"
   ]
  },
  {
   "cell_type": "code",
   "execution_count": 499,
   "metadata": {},
   "outputs": [
    {
     "data": {
      "text/html": [
       "<div>\n",
       "<style scoped>\n",
       "    .dataframe tbody tr th:only-of-type {\n",
       "        vertical-align: middle;\n",
       "    }\n",
       "\n",
       "    .dataframe tbody tr th {\n",
       "        vertical-align: top;\n",
       "    }\n",
       "\n",
       "    .dataframe thead th {\n",
       "        text-align: right;\n",
       "    }\n",
       "</style>\n",
       "<table border=\"1\" class=\"dataframe\">\n",
       "  <thead>\n",
       "    <tr style=\"text-align: right;\">\n",
       "      <th></th>\n",
       "      <th>Country</th>\n",
       "      <th>Age</th>\n",
       "    </tr>\n",
       "  </thead>\n",
       "  <tbody>\n",
       "    <tr>\n",
       "      <td>a</td>\n",
       "      <td>Ghana</td>\n",
       "      <td>60.0</td>\n",
       "    </tr>\n",
       "    <tr>\n",
       "      <td>b</td>\n",
       "      <td>NaN</td>\n",
       "      <td>70.0</td>\n",
       "    </tr>\n",
       "    <tr>\n",
       "      <td>c</td>\n",
       "      <td>Nigeria</td>\n",
       "      <td>80.0</td>\n",
       "    </tr>\n",
       "    <tr>\n",
       "      <td>d</td>\n",
       "      <td>Togo</td>\n",
       "      <td>70.0</td>\n",
       "    </tr>\n",
       "  </tbody>\n",
       "</table>\n",
       "</div>"
      ],
      "text/plain": [
       "   Country   Age\n",
       "a    Ghana  60.0\n",
       "b      NaN  70.0\n",
       "c  Nigeria  80.0\n",
       "d     Togo  70.0"
      ]
     },
     "execution_count": 499,
     "metadata": {},
     "output_type": "execute_result"
    }
   ],
   "source": [
    "dff[['Country', 'Age']]"
   ]
  },
  {
   "cell_type": "code",
   "execution_count": 449,
   "metadata": {},
   "outputs": [
    {
     "data": {
      "text/plain": [
       "Index(['Country', 'Capital', 'Population', 'Age'], dtype='object')"
      ]
     },
     "execution_count": 449,
     "metadata": {},
     "output_type": "execute_result"
    }
   ],
   "source": [
    "dff.columns"
   ]
  },
  {
   "cell_type": "code",
   "execution_count": 471,
   "metadata": {},
   "outputs": [
    {
     "data": {
      "text/plain": [
       "<function matplotlib.pyplot.tight_layout(pad=1.08, h_pad=None, w_pad=None, rect=None)>"
      ]
     },
     "execution_count": 471,
     "metadata": {},
     "output_type": "execute_result"
    },
    {
     "data": {
      "image/png": "[encoded data removed]",
      "text/plain": [
       "<Figure size 432x288 with 1 Axes>"
      ]
     },
     "metadata": {},
     "output_type": "display_data"
    }
   ],
   "source": [
    "plt.plot(dff['Age'], dff['Population'], label='Population')\n",
    "plt.xlabel('Age')\n",
    "plt.ylabel('Population')\n",
    "plt.title('Age vs Population')\n",
    "plt.legend()\n",
    "plt.tight_layout\n"
   ]
  },
  {
   "cell_type": "code",
   "execution_count": null,
   "metadata": {},
   "outputs": [],
   "source": []
  },
  {
   "cell_type": "code",
   "execution_count": null,
   "metadata": {},
   "outputs": [],
   "source": []
  },
  {
   "cell_type": "code",
   "execution_count": 186,
   "metadata": {},
   "outputs": [
    {
     "data": {
      "text/html": [
       "<div>\n",
       "<style scoped>\n",
       "    .dataframe tbody tr th:only-of-type {\n",
       "        vertical-align: middle;\n",
       "    }\n",
       "\n",
       "    .dataframe tbody tr th {\n",
       "        vertical-align: top;\n",
       "    }\n",
       "\n",
       "    .dataframe thead th {\n",
       "        text-align: right;\n",
       "    }\n",
       "</style>\n",
       "<table border=\"1\" class=\"dataframe\">\n",
       "  <thead>\n",
       "    <tr style=\"text-align: right;\">\n",
       "      <th></th>\n",
       "      <th>Country</th>\n",
       "      <th>Capital</th>\n",
       "      <th>Population</th>\n",
       "      <th>Age</th>\n",
       "    </tr>\n",
       "  </thead>\n",
       "  <tbody>\n",
       "    <tr>\n",
       "      <td>a</td>\n",
       "      <td>Ghana</td>\n",
       "      <td>Accra</td>\n",
       "      <td>10000</td>\n",
       "      <td>60</td>\n",
       "    </tr>\n",
       "  </tbody>\n",
       "</table>\n",
       "</div>"
      ],
      "text/plain": [
       "  Country Capital  Population  Age\n",
       "a   Ghana   Accra       10000   60"
      ]
     },
     "execution_count": 186,
     "metadata": {},
     "output_type": "execute_result"
    }
   ],
   "source": [
    "df.dropna()"
   ]
  },
  {
   "cell_type": "code",
   "execution_count": 187,
   "metadata": {},
   "outputs": [
    {
     "data": {
      "text/plain": [
       "2"
      ]
     },
     "execution_count": 187,
     "metadata": {},
     "output_type": "execute_result"
    }
   ],
   "source": [
    "df['Capital'].isnull().sum()"
   ]
  },
  {
   "cell_type": "code",
   "execution_count": 188,
   "metadata": {},
   "outputs": [
    {
     "data": {
      "text/plain": [
       "Index(['Country', 'Capital', 'Population', 'Age'], dtype='object')"
      ]
     },
     "execution_count": 188,
     "metadata": {},
     "output_type": "execute_result"
    }
   ],
   "source": [
    "df.columns"
   ]
  },
  {
   "cell_type": "code",
   "execution_count": 195,
   "metadata": {},
   "outputs": [],
   "source": [
    "df1 = df.iloc[0:2]\n",
    "df2 = df.iloc[2:3]"
   ]
  },
  {
   "cell_type": "code",
   "execution_count": 196,
   "metadata": {},
   "outputs": [
    {
     "data": {
      "text/html": [
       "<div>\n",
       "<style scoped>\n",
       "    .dataframe tbody tr th:only-of-type {\n",
       "        vertical-align: middle;\n",
       "    }\n",
       "\n",
       "    .dataframe tbody tr th {\n",
       "        vertical-align: top;\n",
       "    }\n",
       "\n",
       "    .dataframe thead th {\n",
       "        text-align: right;\n",
       "    }\n",
       "</style>\n",
       "<table border=\"1\" class=\"dataframe\">\n",
       "  <thead>\n",
       "    <tr style=\"text-align: right;\">\n",
       "      <th></th>\n",
       "      <th>Country</th>\n",
       "      <th>Capital</th>\n",
       "      <th>Population</th>\n",
       "      <th>Age</th>\n",
       "    </tr>\n",
       "  </thead>\n",
       "  <tbody>\n",
       "    <tr>\n",
       "      <td>c</td>\n",
       "      <td>Nigeria</td>\n",
       "      <td>None</td>\n",
       "      <td>35000</td>\n",
       "      <td>80</td>\n",
       "    </tr>\n",
       "  </tbody>\n",
       "</table>\n",
       "</div>"
      ],
      "text/plain": [
       "   Country Capital  Population  Age\n",
       "c  Nigeria    None       35000   80"
      ]
     },
     "execution_count": 196,
     "metadata": {},
     "output_type": "execute_result"
    }
   ],
   "source": [
    "df2"
   ]
  },
  {
   "cell_type": "code",
   "execution_count": 262,
   "metadata": {},
   "outputs": [],
   "source": [
    "df3 = df1.merge(df2, how='outer')"
   ]
  },
  {
   "cell_type": "code",
   "execution_count": 263,
   "metadata": {},
   "outputs": [
    {
     "data": {
      "text/html": [
       "<div>\n",
       "<style scoped>\n",
       "    .dataframe tbody tr th:only-of-type {\n",
       "        vertical-align: middle;\n",
       "    }\n",
       "\n",
       "    .dataframe tbody tr th {\n",
       "        vertical-align: top;\n",
       "    }\n",
       "\n",
       "    .dataframe thead th {\n",
       "        text-align: right;\n",
       "    }\n",
       "</style>\n",
       "<table border=\"1\" class=\"dataframe\">\n",
       "  <thead>\n",
       "    <tr style=\"text-align: right;\">\n",
       "      <th></th>\n",
       "      <th>Country</th>\n",
       "      <th>Capital</th>\n",
       "      <th>Population</th>\n",
       "      <th>Age</th>\n",
       "    </tr>\n",
       "  </thead>\n",
       "  <tbody>\n",
       "    <tr>\n",
       "      <td>0</td>\n",
       "      <td>Ghana</td>\n",
       "      <td>Accra</td>\n",
       "      <td>10000</td>\n",
       "      <td>60</td>\n",
       "    </tr>\n",
       "    <tr>\n",
       "      <td>1</td>\n",
       "      <td>NaN</td>\n",
       "      <td>Nairobi</td>\n",
       "      <td>8500</td>\n",
       "      <td>70</td>\n",
       "    </tr>\n",
       "    <tr>\n",
       "      <td>2</td>\n",
       "      <td>Nigeria</td>\n",
       "      <td>None</td>\n",
       "      <td>35000</td>\n",
       "      <td>80</td>\n",
       "    </tr>\n",
       "  </tbody>\n",
       "</table>\n",
       "</div>"
      ],
      "text/plain": [
       "   Country  Capital  Population  Age\n",
       "0    Ghana    Accra       10000   60\n",
       "1      NaN  Nairobi        8500   70\n",
       "2  Nigeria     None       35000   80"
      ]
     },
     "execution_count": 263,
     "metadata": {},
     "output_type": "execute_result"
    }
   ],
   "source": [
    "df3"
   ]
  },
  {
   "cell_type": "code",
   "execution_count": 215,
   "metadata": {},
   "outputs": [
    {
     "data": {
      "text/html": [
       "<div>\n",
       "<style scoped>\n",
       "    .dataframe tbody tr th:only-of-type {\n",
       "        vertical-align: middle;\n",
       "    }\n",
       "\n",
       "    .dataframe tbody tr th {\n",
       "        vertical-align: top;\n",
       "    }\n",
       "\n",
       "    .dataframe thead th {\n",
       "        text-align: right;\n",
       "    }\n",
       "</style>\n",
       "<table border=\"1\" class=\"dataframe\">\n",
       "  <thead>\n",
       "    <tr style=\"text-align: right;\">\n",
       "      <th></th>\n",
       "      <th>Country</th>\n",
       "      <th>Capital</th>\n",
       "      <th>Population</th>\n",
       "      <th>Age</th>\n",
       "    </tr>\n",
       "  </thead>\n",
       "  <tbody>\n",
       "    <tr>\n",
       "      <td>a</td>\n",
       "      <td>Ghana</td>\n",
       "      <td>Accra</td>\n",
       "      <td>10000</td>\n",
       "      <td>60</td>\n",
       "    </tr>\n",
       "    <tr>\n",
       "      <td>b</td>\n",
       "      <td>NaN</td>\n",
       "      <td>Nairobi</td>\n",
       "      <td>8500</td>\n",
       "      <td>70</td>\n",
       "    </tr>\n",
       "    <tr>\n",
       "      <td>c</td>\n",
       "      <td>Nigeria</td>\n",
       "      <td>None</td>\n",
       "      <td>35000</td>\n",
       "      <td>80</td>\n",
       "    </tr>\n",
       "  </tbody>\n",
       "</table>\n",
       "</div>"
      ],
      "text/plain": [
       "   Country  Capital  Population  Age\n",
       "a    Ghana    Accra       10000   60\n",
       "b      NaN  Nairobi        8500   70\n",
       "c  Nigeria     None       35000   80"
      ]
     },
     "execution_count": 215,
     "metadata": {},
     "output_type": "execute_result"
    }
   ],
   "source": [
    "df4 = pd.concat([df1, df2])\n",
    "df4"
   ]
  },
  {
   "cell_type": "code",
   "execution_count": 221,
   "metadata": {},
   "outputs": [],
   "source": [
    "df4.loc['d'] = ['Nigeria', None, 35000, 80]\n",
    "df4.loc['e'] = ['Nigeria', None, 35000, 80]"
   ]
  },
  {
   "cell_type": "code",
   "execution_count": 224,
   "metadata": {},
   "outputs": [
    {
     "data": {
      "text/plain": [
       "2"
      ]
     },
     "execution_count": 224,
     "metadata": {},
     "output_type": "execute_result"
    }
   ],
   "source": [
    "df4.duplicated().sum()"
   ]
  },
  {
   "cell_type": "code",
   "execution_count": 232,
   "metadata": {},
   "outputs": [
    {
     "data": {
      "text/html": [
       "<div>\n",
       "<style scoped>\n",
       "    .dataframe tbody tr th:only-of-type {\n",
       "        vertical-align: middle;\n",
       "    }\n",
       "\n",
       "    .dataframe tbody tr th {\n",
       "        vertical-align: top;\n",
       "    }\n",
       "\n",
       "    .dataframe thead th {\n",
       "        text-align: right;\n",
       "    }\n",
       "</style>\n",
       "<table border=\"1\" class=\"dataframe\">\n",
       "  <thead>\n",
       "    <tr style=\"text-align: right;\">\n",
       "      <th></th>\n",
       "      <th>Country</th>\n",
       "      <th>Capital</th>\n",
       "      <th>Population</th>\n",
       "      <th>Age</th>\n",
       "    </tr>\n",
       "  </thead>\n",
       "  <tbody>\n",
       "    <tr>\n",
       "      <td>a</td>\n",
       "      <td>Ghana</td>\n",
       "      <td>Accra</td>\n",
       "      <td>10000</td>\n",
       "      <td>60</td>\n",
       "    </tr>\n",
       "    <tr>\n",
       "      <td>b</td>\n",
       "      <td>NaN</td>\n",
       "      <td>Nairobi</td>\n",
       "      <td>8500</td>\n",
       "      <td>70</td>\n",
       "    </tr>\n",
       "    <tr>\n",
       "      <td>c</td>\n",
       "      <td>Nigeria</td>\n",
       "      <td>None</td>\n",
       "      <td>35000</td>\n",
       "      <td>80</td>\n",
       "    </tr>\n",
       "    <tr>\n",
       "      <td>d</td>\n",
       "      <td>Nigeria</td>\n",
       "      <td>None</td>\n",
       "      <td>35000</td>\n",
       "      <td>80</td>\n",
       "    </tr>\n",
       "    <tr>\n",
       "      <td>e</td>\n",
       "      <td>Nigeria</td>\n",
       "      <td>None</td>\n",
       "      <td>35000</td>\n",
       "      <td>80</td>\n",
       "    </tr>\n",
       "  </tbody>\n",
       "</table>\n",
       "</div>"
      ],
      "text/plain": [
       "   Country  Capital  Population  Age\n",
       "a    Ghana    Accra       10000   60\n",
       "b      NaN  Nairobi        8500   70\n",
       "c  Nigeria     None       35000   80\n",
       "d  Nigeria     None       35000   80\n",
       "e  Nigeria     None       35000   80"
      ]
     },
     "execution_count": 232,
     "metadata": {},
     "output_type": "execute_result"
    }
   ],
   "source": [
    "df4"
   ]
  },
  {
   "cell_type": "code",
   "execution_count": 242,
   "metadata": {},
   "outputs": [
    {
     "data": {
      "text/plain": [
       "2"
      ]
     },
     "execution_count": 242,
     "metadata": {},
     "output_type": "execute_result"
    }
   ],
   "source": [
    "df4.duplicated().sum()"
   ]
  },
  {
   "cell_type": "code",
   "execution_count": 244,
   "metadata": {},
   "outputs": [
    {
     "data": {
      "text/html": [
       "<div>\n",
       "<style scoped>\n",
       "    .dataframe tbody tr th:only-of-type {\n",
       "        vertical-align: middle;\n",
       "    }\n",
       "\n",
       "    .dataframe tbody tr th {\n",
       "        vertical-align: top;\n",
       "    }\n",
       "\n",
       "    .dataframe thead th {\n",
       "        text-align: right;\n",
       "    }\n",
       "</style>\n",
       "<table border=\"1\" class=\"dataframe\">\n",
       "  <thead>\n",
       "    <tr style=\"text-align: right;\">\n",
       "      <th></th>\n",
       "      <th>Country</th>\n",
       "      <th>Capital</th>\n",
       "      <th>Population</th>\n",
       "      <th>Age</th>\n",
       "    </tr>\n",
       "  </thead>\n",
       "  <tbody>\n",
       "    <tr>\n",
       "      <td>a</td>\n",
       "      <td>Ghana</td>\n",
       "      <td>Accra</td>\n",
       "      <td>10000</td>\n",
       "      <td>60</td>\n",
       "    </tr>\n",
       "    <tr>\n",
       "      <td>b</td>\n",
       "      <td>NaN</td>\n",
       "      <td>Nairobi</td>\n",
       "      <td>8500</td>\n",
       "      <td>70</td>\n",
       "    </tr>\n",
       "    <tr>\n",
       "      <td>c</td>\n",
       "      <td>Nigeria</td>\n",
       "      <td>None</td>\n",
       "      <td>35000</td>\n",
       "      <td>80</td>\n",
       "    </tr>\n",
       "  </tbody>\n",
       "</table>\n",
       "</div>"
      ],
      "text/plain": [
       "   Country  Capital  Population  Age\n",
       "a    Ghana    Accra       10000   60\n",
       "b      NaN  Nairobi        8500   70\n",
       "c  Nigeria     None       35000   80"
      ]
     },
     "execution_count": 244,
     "metadata": {},
     "output_type": "execute_result"
    }
   ],
   "source": [
    "df4.drop_duplicates(subset=['Country', 'Capital'])"
   ]
  },
  {
   "cell_type": "code",
   "execution_count": 245,
   "metadata": {},
   "outputs": [
    {
     "data": {
      "text/html": [
       "<div>\n",
       "<style scoped>\n",
       "    .dataframe tbody tr th:only-of-type {\n",
       "        vertical-align: middle;\n",
       "    }\n",
       "\n",
       "    .dataframe tbody tr th {\n",
       "        vertical-align: top;\n",
       "    }\n",
       "\n",
       "    .dataframe thead th {\n",
       "        text-align: right;\n",
       "    }\n",
       "</style>\n",
       "<table border=\"1\" class=\"dataframe\">\n",
       "  <thead>\n",
       "    <tr style=\"text-align: right;\">\n",
       "      <th></th>\n",
       "      <th>a</th>\n",
       "      <th>b</th>\n",
       "      <th>c</th>\n",
       "      <th>d</th>\n",
       "      <th>e</th>\n",
       "    </tr>\n",
       "  </thead>\n",
       "  <tbody>\n",
       "    <tr>\n",
       "      <td>Country</td>\n",
       "      <td>Ghana</td>\n",
       "      <td>NaN</td>\n",
       "      <td>Nigeria</td>\n",
       "      <td>Nigeria</td>\n",
       "      <td>Nigeria</td>\n",
       "    </tr>\n",
       "    <tr>\n",
       "      <td>Capital</td>\n",
       "      <td>Accra</td>\n",
       "      <td>Nairobi</td>\n",
       "      <td>None</td>\n",
       "      <td>None</td>\n",
       "      <td>None</td>\n",
       "    </tr>\n",
       "    <tr>\n",
       "      <td>Population</td>\n",
       "      <td>10000</td>\n",
       "      <td>8500</td>\n",
       "      <td>35000</td>\n",
       "      <td>35000</td>\n",
       "      <td>35000</td>\n",
       "    </tr>\n",
       "    <tr>\n",
       "      <td>Age</td>\n",
       "      <td>60</td>\n",
       "      <td>70</td>\n",
       "      <td>80</td>\n",
       "      <td>80</td>\n",
       "      <td>80</td>\n",
       "    </tr>\n",
       "  </tbody>\n",
       "</table>\n",
       "</div>"
      ],
      "text/plain": [
       "                a        b        c        d        e\n",
       "Country     Ghana      NaN  Nigeria  Nigeria  Nigeria\n",
       "Capital     Accra  Nairobi     None     None     None\n",
       "Population  10000     8500    35000    35000    35000\n",
       "Age            60       70       80       80       80"
      ]
     },
     "execution_count": 245,
     "metadata": {},
     "output_type": "execute_result"
    }
   ],
   "source": [
    "df4.T"
   ]
  },
  {
   "cell_type": "code",
   "execution_count": 402,
   "metadata": {},
   "outputs": [],
   "source": [
    "url = \"https://bit.ly/HDSC-StageOneDataset\"\n",
    "df = pd.read_csv(url)"
   ]
  },
  {
   "cell_type": "code",
   "execution_count": 403,
   "metadata": {},
   "outputs": [
    {
     "data": {
      "text/html": [
       "<div>\n",
       "<style scoped>\n",
       "    .dataframe tbody tr th:only-of-type {\n",
       "        vertical-align: middle;\n",
       "    }\n",
       "\n",
       "    .dataframe tbody tr th {\n",
       "        vertical-align: top;\n",
       "    }\n",
       "\n",
       "    .dataframe thead th {\n",
       "        text-align: right;\n",
       "    }\n",
       "</style>\n",
       "<table border=\"1\" class=\"dataframe\">\n",
       "  <thead>\n",
       "    <tr style=\"text-align: right;\">\n",
       "      <th></th>\n",
       "      <th>record_id</th>\n",
       "      <th>utility_id_ferc1</th>\n",
       "      <th>report_year</th>\n",
       "      <th>plant_name_ferc1</th>\n",
       "      <th>fuel_type_code_pudl</th>\n",
       "      <th>fuel_unit</th>\n",
       "      <th>fuel_qty_burned</th>\n",
       "      <th>fuel_mmbtu_per_unit</th>\n",
       "      <th>fuel_cost_per_unit_burned</th>\n",
       "      <th>fuel_cost_per_unit_delivered</th>\n",
       "      <th>fuel_cost_per_mmbtu</th>\n",
       "    </tr>\n",
       "  </thead>\n",
       "  <tbody>\n",
       "    <tr>\n",
       "      <td>count</td>\n",
       "      <td>29523</td>\n",
       "      <td>29523.000000</td>\n",
       "      <td>29523.000000</td>\n",
       "      <td>29523</td>\n",
       "      <td>29523</td>\n",
       "      <td>29343</td>\n",
       "      <td>2.952300e+04</td>\n",
       "      <td>29523.000000</td>\n",
       "      <td>29523.000000</td>\n",
       "      <td>2.952300e+04</td>\n",
       "      <td>29523.000000</td>\n",
       "    </tr>\n",
       "    <tr>\n",
       "      <td>unique</td>\n",
       "      <td>29523</td>\n",
       "      <td>NaN</td>\n",
       "      <td>NaN</td>\n",
       "      <td>2315</td>\n",
       "      <td>6</td>\n",
       "      <td>9</td>\n",
       "      <td>NaN</td>\n",
       "      <td>NaN</td>\n",
       "      <td>NaN</td>\n",
       "      <td>NaN</td>\n",
       "      <td>NaN</td>\n",
       "    </tr>\n",
       "    <tr>\n",
       "      <td>top</td>\n",
       "      <td>f1_fuel_2000_12_122_0_2</td>\n",
       "      <td>NaN</td>\n",
       "      <td>NaN</td>\n",
       "      <td>big stone</td>\n",
       "      <td>gas</td>\n",
       "      <td>mcf</td>\n",
       "      <td>NaN</td>\n",
       "      <td>NaN</td>\n",
       "      <td>NaN</td>\n",
       "      <td>NaN</td>\n",
       "      <td>NaN</td>\n",
       "    </tr>\n",
       "    <tr>\n",
       "      <td>freq</td>\n",
       "      <td>1</td>\n",
       "      <td>NaN</td>\n",
       "      <td>NaN</td>\n",
       "      <td>156</td>\n",
       "      <td>11486</td>\n",
       "      <td>11354</td>\n",
       "      <td>NaN</td>\n",
       "      <td>NaN</td>\n",
       "      <td>NaN</td>\n",
       "      <td>NaN</td>\n",
       "      <td>NaN</td>\n",
       "    </tr>\n",
       "    <tr>\n",
       "      <td>mean</td>\n",
       "      <td>NaN</td>\n",
       "      <td>118.601836</td>\n",
       "      <td>2005.806050</td>\n",
       "      <td>NaN</td>\n",
       "      <td>NaN</td>\n",
       "      <td>NaN</td>\n",
       "      <td>2.622119e+06</td>\n",
       "      <td>8.492111</td>\n",
       "      <td>208.649031</td>\n",
       "      <td>9.175704e+02</td>\n",
       "      <td>19.304354</td>\n",
       "    </tr>\n",
       "    <tr>\n",
       "      <td>std</td>\n",
       "      <td>NaN</td>\n",
       "      <td>74.178353</td>\n",
       "      <td>7.025483</td>\n",
       "      <td>NaN</td>\n",
       "      <td>NaN</td>\n",
       "      <td>NaN</td>\n",
       "      <td>9.118004e+06</td>\n",
       "      <td>10.600220</td>\n",
       "      <td>2854.490090</td>\n",
       "      <td>6.877593e+04</td>\n",
       "      <td>2091.540939</td>\n",
       "    </tr>\n",
       "    <tr>\n",
       "      <td>min</td>\n",
       "      <td>NaN</td>\n",
       "      <td>1.000000</td>\n",
       "      <td>1994.000000</td>\n",
       "      <td>NaN</td>\n",
       "      <td>NaN</td>\n",
       "      <td>NaN</td>\n",
       "      <td>1.000000e+00</td>\n",
       "      <td>0.000001</td>\n",
       "      <td>-276.080000</td>\n",
       "      <td>-8.749370e+02</td>\n",
       "      <td>-41.501000</td>\n",
       "    </tr>\n",
       "    <tr>\n",
       "      <td>25%</td>\n",
       "      <td>NaN</td>\n",
       "      <td>55.000000</td>\n",
       "      <td>2000.000000</td>\n",
       "      <td>NaN</td>\n",
       "      <td>NaN</td>\n",
       "      <td>NaN</td>\n",
       "      <td>1.381700e+04</td>\n",
       "      <td>1.024000</td>\n",
       "      <td>5.207000</td>\n",
       "      <td>3.778500e+00</td>\n",
       "      <td>1.940000</td>\n",
       "    </tr>\n",
       "    <tr>\n",
       "      <td>50%</td>\n",
       "      <td>NaN</td>\n",
       "      <td>122.000000</td>\n",
       "      <td>2006.000000</td>\n",
       "      <td>NaN</td>\n",
       "      <td>NaN</td>\n",
       "      <td>NaN</td>\n",
       "      <td>2.533220e+05</td>\n",
       "      <td>5.762694</td>\n",
       "      <td>26.000000</td>\n",
       "      <td>1.737100e+01</td>\n",
       "      <td>4.127000</td>\n",
       "    </tr>\n",
       "    <tr>\n",
       "      <td>75%</td>\n",
       "      <td>NaN</td>\n",
       "      <td>176.000000</td>\n",
       "      <td>2012.000000</td>\n",
       "      <td>NaN</td>\n",
       "      <td>NaN</td>\n",
       "      <td>NaN</td>\n",
       "      <td>1.424034e+06</td>\n",
       "      <td>17.006000</td>\n",
       "      <td>47.113000</td>\n",
       "      <td>4.213700e+01</td>\n",
       "      <td>7.745000</td>\n",
       "    </tr>\n",
       "    <tr>\n",
       "      <td>max</td>\n",
       "      <td>NaN</td>\n",
       "      <td>514.000000</td>\n",
       "      <td>2018.000000</td>\n",
       "      <td>NaN</td>\n",
       "      <td>NaN</td>\n",
       "      <td>NaN</td>\n",
       "      <td>5.558942e+08</td>\n",
       "      <td>341.260000</td>\n",
       "      <td>139358.000000</td>\n",
       "      <td>7.964521e+06</td>\n",
       "      <td>359278.000000</td>\n",
       "    </tr>\n",
       "  </tbody>\n",
       "</table>\n",
       "</div>"
      ],
      "text/plain": [
       "                      record_id  utility_id_ferc1   report_year  \\\n",
       "count                     29523      29523.000000  29523.000000   \n",
       "unique                    29523               NaN           NaN   \n",
       "top     f1_fuel_2000_12_122_0_2               NaN           NaN   \n",
       "freq                          1               NaN           NaN   \n",
       "mean                        NaN        118.601836   2005.806050   \n",
       "std                         NaN         74.178353      7.025483   \n",
       "min                         NaN          1.000000   1994.000000   \n",
       "25%                         NaN         55.000000   2000.000000   \n",
       "50%                         NaN        122.000000   2006.000000   \n",
       "75%                         NaN        176.000000   2012.000000   \n",
       "max                         NaN        514.000000   2018.000000   \n",
       "\n",
       "       plant_name_ferc1 fuel_type_code_pudl fuel_unit  fuel_qty_burned  \\\n",
       "count             29523               29523     29343     2.952300e+04   \n",
       "unique             2315                   6         9              NaN   \n",
       "top           big stone                 gas       mcf              NaN   \n",
       "freq                156               11486     11354              NaN   \n",
       "mean                NaN                 NaN       NaN     2.622119e+06   \n",
       "std                 NaN                 NaN       NaN     9.118004e+06   \n",
       "min                 NaN                 NaN       NaN     1.000000e+00   \n",
       "25%                 NaN                 NaN       NaN     1.381700e+04   \n",
       "50%                 NaN                 NaN       NaN     2.533220e+05   \n",
       "75%                 NaN                 NaN       NaN     1.424034e+06   \n",
       "max                 NaN                 NaN       NaN     5.558942e+08   \n",
       "\n",
       "        fuel_mmbtu_per_unit  fuel_cost_per_unit_burned  \\\n",
       "count          29523.000000               29523.000000   \n",
       "unique                  NaN                        NaN   \n",
       "top                     NaN                        NaN   \n",
       "freq                    NaN                        NaN   \n",
       "mean               8.492111                 208.649031   \n",
       "std               10.600220                2854.490090   \n",
       "min                0.000001                -276.080000   \n",
       "25%                1.024000                   5.207000   \n",
       "50%                5.762694                  26.000000   \n",
       "75%               17.006000                  47.113000   \n",
       "max              341.260000              139358.000000   \n",
       "\n",
       "        fuel_cost_per_unit_delivered  fuel_cost_per_mmbtu  \n",
       "count                   2.952300e+04         29523.000000  \n",
       "unique                           NaN                  NaN  \n",
       "top                              NaN                  NaN  \n",
       "freq                             NaN                  NaN  \n",
       "mean                    9.175704e+02            19.304354  \n",
       "std                     6.877593e+04          2091.540939  \n",
       "min                    -8.749370e+02           -41.501000  \n",
       "25%                     3.778500e+00             1.940000  \n",
       "50%                     1.737100e+01             4.127000  \n",
       "75%                     4.213700e+01             7.745000  \n",
       "max                     7.964521e+06        359278.000000  "
      ]
     },
     "execution_count": 403,
     "metadata": {},
     "output_type": "execute_result"
    }
   ],
   "source": [
    "df.describe(include='all')"
   ]
  },
  {
   "cell_type": "code",
   "execution_count": 404,
   "metadata": {},
   "outputs": [
    {
     "data": {
      "text/plain": [
       "dtype('O')"
      ]
     },
     "execution_count": 404,
     "metadata": {},
     "output_type": "execute_result"
    }
   ],
   "source": [
    "df.fuel_unit.dtype"
   ]
  },
  {
   "cell_type": "code",
   "execution_count": 400,
   "metadata": {},
   "outputs": [
    {
     "data": {
      "text/plain": [
       "gas        11486\n",
       "coal        8547\n",
       "oil         8064\n",
       "nuclear      818\n",
       "waste        441\n",
       "other        167\n",
       "Name: fuel_type_code_pudl, dtype: int64"
      ]
     },
     "execution_count": 400,
     "metadata": {},
     "output_type": "execute_result"
    }
   ],
   "source": [
    "df.fuel_type_code_pudl.value_counts()"
   ]
  },
  {
   "cell_type": "code",
   "execution_count": 401,
   "metadata": {},
   "outputs": [
    {
     "data": {
      "text/plain": [
       "record_id                       0\n",
       "utility_id_ferc1                0\n",
       "report_year                     0\n",
       "plant_name_ferc1                0\n",
       "fuel_type_code_pudl             0\n",
       "fuel_unit                       0\n",
       "fuel_qty_burned                 0\n",
       "fuel_mmbtu_per_unit             0\n",
       "fuel_cost_per_unit_burned       0\n",
       "fuel_cost_per_unit_delivered    0\n",
       "fuel_cost_per_mmbtu             0\n",
       "dtype: int64"
      ]
     },
     "execution_count": 401,
     "metadata": {},
     "output_type": "execute_result"
    }
   ],
   "source": [
    "df.isnull().sum()"
   ]
  },
  {
   "cell_type": "code",
   "execution_count": 399,
   "metadata": {},
   "outputs": [
    {
     "data": {
      "text/plain": [
       "0"
      ]
     },
     "execution_count": 399,
     "metadata": {},
     "output_type": "execute_result"
    }
   ],
   "source": [
    "#66, 152\n",
    "\n",
    "df['fuel_unit'] = df.fuel_unit.fillna(str(df['fuel_unit'].mode()))\n",
    "\n",
    "df.fuel_unit.isnull().sum()"
   ]
  },
  {
   "cell_type": "code",
   "execution_count": 362,
   "metadata": {},
   "outputs": [],
   "source": [
    "sample_df = df.sample(n=50, random_state=1)"
   ]
  },
  {
   "cell_type": "code",
   "execution_count": 306,
   "metadata": {},
   "outputs": [
    {
     "data": {
      "text/html": [
       "<div>\n",
       "<style scoped>\n",
       "    .dataframe tbody tr th:only-of-type {\n",
       "        vertical-align: middle;\n",
       "    }\n",
       "\n",
       "    .dataframe tbody tr th {\n",
       "        vertical-align: top;\n",
       "    }\n",
       "\n",
       "    .dataframe thead th {\n",
       "        text-align: right;\n",
       "    }\n",
       "</style>\n",
       "<table border=\"1\" class=\"dataframe\">\n",
       "  <thead>\n",
       "    <tr style=\"text-align: right;\">\n",
       "      <th></th>\n",
       "      <th>record_id</th>\n",
       "      <th>utility_id_ferc1</th>\n",
       "      <th>report_year</th>\n",
       "      <th>plant_name_ferc1</th>\n",
       "      <th>fuel_type_code_pudl</th>\n",
       "      <th>fuel_unit</th>\n",
       "      <th>fuel_qty_burned</th>\n",
       "      <th>fuel_mmbtu_per_unit</th>\n",
       "      <th>fuel_cost_per_unit_burned</th>\n",
       "      <th>fuel_cost_per_unit_delivered</th>\n",
       "      <th>fuel_cost_per_mmbtu</th>\n",
       "    </tr>\n",
       "  </thead>\n",
       "  <tbody>\n",
       "    <tr>\n",
       "      <td>13025</td>\n",
       "      <td>f1_fuel_2004_12_120_0_13</td>\n",
       "      <td>120</td>\n",
       "      <td>2004</td>\n",
       "      <td>riverside</td>\n",
       "      <td>coal</td>\n",
       "      <td>ton</td>\n",
       "      <td>1249268.0</td>\n",
       "      <td>18.392000</td>\n",
       "      <td>22.193</td>\n",
       "      <td>19.925</td>\n",
       "      <td>1.20700</td>\n",
       "    </tr>\n",
       "    <tr>\n",
       "      <td>25336</td>\n",
       "      <td>f1_fuel_2014_12_45_0_4</td>\n",
       "      <td>45</td>\n",
       "      <td>2014</td>\n",
       "      <td>marshall</td>\n",
       "      <td>coal</td>\n",
       "      <td>ton</td>\n",
       "      <td>3592716.0</td>\n",
       "      <td>24.412000</td>\n",
       "      <td>93.610</td>\n",
       "      <td>89.980</td>\n",
       "      <td>3.83500</td>\n",
       "    </tr>\n",
       "    <tr>\n",
       "      <td>10471</td>\n",
       "      <td>f1_fuel_2002_12_108_0_10</td>\n",
       "      <td>108</td>\n",
       "      <td>2002</td>\n",
       "      <td>mohave 1 &amp; 2</td>\n",
       "      <td>coal</td>\n",
       "      <td>ton</td>\n",
       "      <td>659090.0</td>\n",
       "      <td>21.924251</td>\n",
       "      <td>28.736</td>\n",
       "      <td>28.742</td>\n",
       "      <td>1.31100</td>\n",
       "    </tr>\n",
       "    <tr>\n",
       "      <td>9681</td>\n",
       "      <td>f1_fuel_2002_12_63_1_6</td>\n",
       "      <td>63</td>\n",
       "      <td>2002</td>\n",
       "      <td>sabine</td>\n",
       "      <td>oil</td>\n",
       "      <td>bbl</td>\n",
       "      <td>157.0</td>\n",
       "      <td>5.872608</td>\n",
       "      <td>31.465</td>\n",
       "      <td>0.000</td>\n",
       "      <td>5.35800</td>\n",
       "    </tr>\n",
       "    <tr>\n",
       "      <td>17567</td>\n",
       "      <td>f1_fuel_2008_12_56_3_5</td>\n",
       "      <td>56</td>\n",
       "      <td>2008</td>\n",
       "      <td>martin 8</td>\n",
       "      <td>gas</td>\n",
       "      <td>mcf</td>\n",
       "      <td>47784529.0</td>\n",
       "      <td>1.032436</td>\n",
       "      <td>10.451</td>\n",
       "      <td>10.451</td>\n",
       "      <td>10.45100</td>\n",
       "    </tr>\n",
       "    <tr>\n",
       "      <td>8532</td>\n",
       "      <td>f1_fuel_2001_12_56_1_15</td>\n",
       "      <td>56</td>\n",
       "      <td>2001</td>\n",
       "      <td>port everglades</td>\n",
       "      <td>gas</td>\n",
       "      <td>mcf</td>\n",
       "      <td>9536398.0</td>\n",
       "      <td>1.000000</td>\n",
       "      <td>4.022</td>\n",
       "      <td>4.022</td>\n",
       "      <td>4.02200</td>\n",
       "    </tr>\n",
       "    <tr>\n",
       "      <td>14683</td>\n",
       "      <td>f1_fuel_2006_12_27_2_2</td>\n",
       "      <td>27</td>\n",
       "      <td>2006</td>\n",
       "      <td>stuart cge</td>\n",
       "      <td>oil</td>\n",
       "      <td>bbl</td>\n",
       "      <td>23760.0</td>\n",
       "      <td>5.770758</td>\n",
       "      <td>86.762</td>\n",
       "      <td>87.206</td>\n",
       "      <td>15.03500</td>\n",
       "    </tr>\n",
       "    <tr>\n",
       "      <td>6595</td>\n",
       "      <td>f1_fuel_1999_12_193_1_3</td>\n",
       "      <td>193</td>\n",
       "      <td>1999</td>\n",
       "      <td>pleasant prairie-tot</td>\n",
       "      <td>coal</td>\n",
       "      <td>ton</td>\n",
       "      <td>5450159.0</td>\n",
       "      <td>16.774000</td>\n",
       "      <td>12.254</td>\n",
       "      <td>12.254</td>\n",
       "      <td>0.73052</td>\n",
       "    </tr>\n",
       "    <tr>\n",
       "      <td>9716</td>\n",
       "      <td>f1_fuel_2002_12_146_1_1</td>\n",
       "      <td>146</td>\n",
       "      <td>2002</td>\n",
       "      <td>lost nation</td>\n",
       "      <td>oil</td>\n",
       "      <td>bbl</td>\n",
       "      <td>2852.0</td>\n",
       "      <td>5.818848</td>\n",
       "      <td>33.137</td>\n",
       "      <td>33.671</td>\n",
       "      <td>5.69500</td>\n",
       "    </tr>\n",
       "    <tr>\n",
       "      <td>5411</td>\n",
       "      <td>f1_fuel_1998_12_135_0_4</td>\n",
       "      <td>135</td>\n",
       "      <td>1998</td>\n",
       "      <td>cromby</td>\n",
       "      <td>coal</td>\n",
       "      <td>ton</td>\n",
       "      <td>322139.0</td>\n",
       "      <td>25.638000</td>\n",
       "      <td>43.200</td>\n",
       "      <td>38.970</td>\n",
       "      <td>1.68500</td>\n",
       "    </tr>\n",
       "    <tr>\n",
       "      <td>14368</td>\n",
       "      <td>f1_fuel_2005_12_114_0_3</td>\n",
       "      <td>114</td>\n",
       "      <td>2005</td>\n",
       "      <td>michoud</td>\n",
       "      <td>oil</td>\n",
       "      <td>bbl</td>\n",
       "      <td>5927.0</td>\n",
       "      <td>6.512562</td>\n",
       "      <td>191.381</td>\n",
       "      <td>0.000</td>\n",
       "      <td>29.38600</td>\n",
       "    </tr>\n",
       "    <tr>\n",
       "      <td>12102</td>\n",
       "      <td>f1_fuel_2004_12_44_5_6</td>\n",
       "      <td>44</td>\n",
       "      <td>2004</td>\n",
       "      <td>greenwood</td>\n",
       "      <td>gas</td>\n",
       "      <td>mcf</td>\n",
       "      <td>69011.0</td>\n",
       "      <td>1.006000</td>\n",
       "      <td>7.492</td>\n",
       "      <td>6.992</td>\n",
       "      <td>7.44700</td>\n",
       "    </tr>\n",
       "    <tr>\n",
       "      <td>4170</td>\n",
       "      <td>f1_fuel_1997_12_176_0_7</td>\n",
       "      <td>176</td>\n",
       "      <td>1997</td>\n",
       "      <td>four corners</td>\n",
       "      <td>coal</td>\n",
       "      <td>ton</td>\n",
       "      <td>378798.0</td>\n",
       "      <td>17.712000</td>\n",
       "      <td>16.668</td>\n",
       "      <td>16.668</td>\n",
       "      <td>0.94100</td>\n",
       "    </tr>\n",
       "    <tr>\n",
       "      <td>8168</td>\n",
       "      <td>f1_fuel_2001_12_195_3_10</td>\n",
       "      <td>195</td>\n",
       "      <td>2001</td>\n",
       "      <td>plant total-weston</td>\n",
       "      <td>coal</td>\n",
       "      <td>ton</td>\n",
       "      <td>1970183.0</td>\n",
       "      <td>17.266000</td>\n",
       "      <td>18.930</td>\n",
       "      <td>17.250</td>\n",
       "      <td>1.07700</td>\n",
       "    </tr>\n",
       "    <tr>\n",
       "      <td>10483</td>\n",
       "      <td>f1_fuel_2002_12_17_0_8</td>\n",
       "      <td>17</td>\n",
       "      <td>2002</td>\n",
       "      <td>w. h. weatherspoon</td>\n",
       "      <td>coal</td>\n",
       "      <td>ton</td>\n",
       "      <td>362822.0</td>\n",
       "      <td>25.176000</td>\n",
       "      <td>52.406</td>\n",
       "      <td>53.097</td>\n",
       "      <td>2.08200</td>\n",
       "    </tr>\n",
       "    <tr>\n",
       "      <td>8688</td>\n",
       "      <td>f1_fuel_2001_12_99_1_4</td>\n",
       "      <td>99</td>\n",
       "      <td>2001</td>\n",
       "      <td>sweatt</td>\n",
       "      <td>gas</td>\n",
       "      <td>mcf</td>\n",
       "      <td>73709.0</td>\n",
       "      <td>1.000000</td>\n",
       "      <td>12.818</td>\n",
       "      <td>0.000</td>\n",
       "      <td>12.37800</td>\n",
       "    </tr>\n",
       "    <tr>\n",
       "      <td>9616</td>\n",
       "      <td>f1_fuel_2002_12_27_2_9</td>\n",
       "      <td>27</td>\n",
       "      <td>2002</td>\n",
       "      <td>east bend #2-total</td>\n",
       "      <td>oil</td>\n",
       "      <td>bbl</td>\n",
       "      <td>38979.0</td>\n",
       "      <td>5.712420</td>\n",
       "      <td>31.795</td>\n",
       "      <td>32.075</td>\n",
       "      <td>5.56600</td>\n",
       "    </tr>\n",
       "    <tr>\n",
       "      <td>15339</td>\n",
       "      <td>f1_fuel_2006_12_8_1_8</td>\n",
       "      <td>8</td>\n",
       "      <td>2006</td>\n",
       "      <td>arkansas nuclear one</td>\n",
       "      <td>nuclear</td>\n",
       "      <td>mwhth</td>\n",
       "      <td>45784381.0</td>\n",
       "      <td>3.412600</td>\n",
       "      <td>1.849</td>\n",
       "      <td>0.000</td>\n",
       "      <td>0.54200</td>\n",
       "    </tr>\n",
       "    <tr>\n",
       "      <td>3203</td>\n",
       "      <td>f1_fuel_1996_12_7_1_11</td>\n",
       "      <td>7</td>\n",
       "      <td>1996</td>\n",
       "      <td>navajo 1,2,3</td>\n",
       "      <td>oil</td>\n",
       "      <td>bbl</td>\n",
       "      <td>5170.0</td>\n",
       "      <td>5.856858</td>\n",
       "      <td>29.390</td>\n",
       "      <td>29.390</td>\n",
       "      <td>5.02000</td>\n",
       "    </tr>\n",
       "    <tr>\n",
       "      <td>20191</td>\n",
       "      <td>f1_fuel_2010_12_193_0_10</td>\n",
       "      <td>193</td>\n",
       "      <td>2010</td>\n",
       "      <td>germantown-total</td>\n",
       "      <td>oil</td>\n",
       "      <td>bbl</td>\n",
       "      <td>7181.0</td>\n",
       "      <td>5.817000</td>\n",
       "      <td>95.621</td>\n",
       "      <td>96.621</td>\n",
       "      <td>16.43904</td>\n",
       "    </tr>\n",
       "    <tr>\n",
       "      <td>8838</td>\n",
       "      <td>f1_fuel_2001_12_164_1_4</td>\n",
       "      <td>164</td>\n",
       "      <td>2001</td>\n",
       "      <td>*flint creek (1)</td>\n",
       "      <td>coal</td>\n",
       "      <td>ton</td>\n",
       "      <td>1378570.0</td>\n",
       "      <td>16.598000</td>\n",
       "      <td>24.298</td>\n",
       "      <td>24.298</td>\n",
       "      <td>1.46000</td>\n",
       "    </tr>\n",
       "    <tr>\n",
       "      <td>16792</td>\n",
       "      <td>f1_fuel_2007_12_194_1_1</td>\n",
       "      <td>194</td>\n",
       "      <td>2007</td>\n",
       "      <td>columbia energy ctr</td>\n",
       "      <td>coal</td>\n",
       "      <td>ton</td>\n",
       "      <td>4455807.0</td>\n",
       "      <td>16.982000</td>\n",
       "      <td>22.780</td>\n",
       "      <td>22.780</td>\n",
       "      <td>1.34200</td>\n",
       "    </tr>\n",
       "    <tr>\n",
       "      <td>12364</td>\n",
       "      <td>f1_fuel_2004_12_98_0_4</td>\n",
       "      <td>98</td>\n",
       "      <td>2004</td>\n",
       "      <td>laskin</td>\n",
       "      <td>coal</td>\n",
       "      <td>ton</td>\n",
       "      <td>424921.0</td>\n",
       "      <td>18.898000</td>\n",
       "      <td>20.017</td>\n",
       "      <td>20.141</td>\n",
       "      <td>1.05900</td>\n",
       "    </tr>\n",
       "    <tr>\n",
       "      <td>18307</td>\n",
       "      <td>f1_fuel_2009_12_31_0_5</td>\n",
       "      <td>31</td>\n",
       "      <td>2009</td>\n",
       "      <td>picway</td>\n",
       "      <td>oil</td>\n",
       "      <td>bbl</td>\n",
       "      <td>2594.0</td>\n",
       "      <td>5.821620</td>\n",
       "      <td>72.291</td>\n",
       "      <td>74.070</td>\n",
       "      <td>12.41800</td>\n",
       "    </tr>\n",
       "    <tr>\n",
       "      <td>25007</td>\n",
       "      <td>f1_fuel_2014_12_56_3_10</td>\n",
       "      <td>56</td>\n",
       "      <td>2014</td>\n",
       "      <td>manatee</td>\n",
       "      <td>gas</td>\n",
       "      <td>mcf</td>\n",
       "      <td>42967018.0</td>\n",
       "      <td>1.015678</td>\n",
       "      <td>5.382</td>\n",
       "      <td>5.382</td>\n",
       "      <td>5.38200</td>\n",
       "    </tr>\n",
       "    <tr>\n",
       "      <td>18705</td>\n",
       "      <td>f1_fuel_2009_12_171_0_4</td>\n",
       "      <td>171</td>\n",
       "      <td>2009</td>\n",
       "      <td>unit 4</td>\n",
       "      <td>coal</td>\n",
       "      <td>ton</td>\n",
       "      <td>1006241.0</td>\n",
       "      <td>21.328000</td>\n",
       "      <td>36.130</td>\n",
       "      <td>36.130</td>\n",
       "      <td>1.69000</td>\n",
       "    </tr>\n",
       "    <tr>\n",
       "      <td>21018</td>\n",
       "      <td>f1_fuel_2011_12_159_0_14</td>\n",
       "      <td>159</td>\n",
       "      <td>2011</td>\n",
       "      <td>canadys</td>\n",
       "      <td>gas</td>\n",
       "      <td>mcf</td>\n",
       "      <td>79232.0</td>\n",
       "      <td>1.045000</td>\n",
       "      <td>4.834</td>\n",
       "      <td>4.834</td>\n",
       "      <td>4.62500</td>\n",
       "    </tr>\n",
       "    <tr>\n",
       "      <td>27969</td>\n",
       "      <td>f1_fuel_2017_12_81_0_8</td>\n",
       "      <td>81</td>\n",
       "      <td>2017</td>\n",
       "      <td>mitchell- total</td>\n",
       "      <td>oil</td>\n",
       "      <td>bbl</td>\n",
       "      <td>37260.0</td>\n",
       "      <td>5.641734</td>\n",
       "      <td>70.366</td>\n",
       "      <td>76.892</td>\n",
       "      <td>12.47200</td>\n",
       "    </tr>\n",
       "    <tr>\n",
       "      <td>19204</td>\n",
       "      <td>f1_fuel_2009_12_186_5_1</td>\n",
       "      <td>186</td>\n",
       "      <td>2009</td>\n",
       "      <td>possum point ct</td>\n",
       "      <td>oil</td>\n",
       "      <td>bbl</td>\n",
       "      <td>2168.0</td>\n",
       "      <td>5.813556</td>\n",
       "      <td>87.510</td>\n",
       "      <td>50.030</td>\n",
       "      <td>14.88000</td>\n",
       "    </tr>\n",
       "    <tr>\n",
       "      <td>5033</td>\n",
       "      <td>f1_fuel_1998_12_143_1_7</td>\n",
       "      <td>143</td>\n",
       "      <td>1998</td>\n",
       "      <td>chalk point</td>\n",
       "      <td>coal</td>\n",
       "      <td>ton</td>\n",
       "      <td>1485468.0</td>\n",
       "      <td>26.088000</td>\n",
       "      <td>43.536</td>\n",
       "      <td>41.972</td>\n",
       "      <td>1.66900</td>\n",
       "    </tr>\n",
       "    <tr>\n",
       "      <td>19560</td>\n",
       "      <td>f1_fuel_2010_12_191_0_14</td>\n",
       "      <td>191</td>\n",
       "      <td>2010</td>\n",
       "      <td>hutchinson</td>\n",
       "      <td>oil</td>\n",
       "      <td>bbl</td>\n",
       "      <td>442.0</td>\n",
       "      <td>5.815452</td>\n",
       "      <td>49.660</td>\n",
       "      <td>0.000</td>\n",
       "      <td>8.54000</td>\n",
       "    </tr>\n",
       "    <tr>\n",
       "      <td>10737</td>\n",
       "      <td>f1_fuel_2003_12_193_2_9</td>\n",
       "      <td>193</td>\n",
       "      <td>2003</td>\n",
       "      <td>paris-total</td>\n",
       "      <td>oil</td>\n",
       "      <td>bbl</td>\n",
       "      <td>2151.0</td>\n",
       "      <td>5.817000</td>\n",
       "      <td>38.421</td>\n",
       "      <td>38.421</td>\n",
       "      <td>6.60511</td>\n",
       "    </tr>\n",
       "    <tr>\n",
       "      <td>22960</td>\n",
       "      <td>f1_fuel_2012_12_7_1_13</td>\n",
       "      <td>7</td>\n",
       "      <td>2012</td>\n",
       "      <td>four corners 4</td>\n",
       "      <td>coal</td>\n",
       "      <td>ton</td>\n",
       "      <td>398200.0</td>\n",
       "      <td>18.404000</td>\n",
       "      <td>34.673</td>\n",
       "      <td>33.607</td>\n",
       "      <td>1.88400</td>\n",
       "    </tr>\n",
       "    <tr>\n",
       "      <td>22184</td>\n",
       "      <td>f1_fuel_2012_12_134_2_13</td>\n",
       "      <td>134</td>\n",
       "      <td>2012</td>\n",
       "      <td>gadsby steam</td>\n",
       "      <td>gas</td>\n",
       "      <td>mcf</td>\n",
       "      <td>1818972.0</td>\n",
       "      <td>1.045000</td>\n",
       "      <td>7.824</td>\n",
       "      <td>7.824</td>\n",
       "      <td>7.48900</td>\n",
       "    </tr>\n",
       "    <tr>\n",
       "      <td>11555</td>\n",
       "      <td>f1_fuel_2003_12_45_0_8</td>\n",
       "      <td>45</td>\n",
       "      <td>2003</td>\n",
       "      <td>allen</td>\n",
       "      <td>oil</td>\n",
       "      <td>bbl</td>\n",
       "      <td>21553.0</td>\n",
       "      <td>5.794068</td>\n",
       "      <td>36.622</td>\n",
       "      <td>35.456</td>\n",
       "      <td>6.31100</td>\n",
       "    </tr>\n",
       "    <tr>\n",
       "      <td>1637</td>\n",
       "      <td>f1_fuel_1995_12_68_1_10</td>\n",
       "      <td>68</td>\n",
       "      <td>1995</td>\n",
       "      <td>t.h. wharton</td>\n",
       "      <td>gas</td>\n",
       "      <td>mcf</td>\n",
       "      <td>3275302.0</td>\n",
       "      <td>1.020000</td>\n",
       "      <td>1.695</td>\n",
       "      <td>1.649</td>\n",
       "      <td>1.66100</td>\n",
       "    </tr>\n",
       "    <tr>\n",
       "      <td>21483</td>\n",
       "      <td>f1_fuel_2011_12_7_7_13</td>\n",
       "      <td>7</td>\n",
       "      <td>2011</td>\n",
       "      <td>palo verde 2</td>\n",
       "      <td>nuclear</td>\n",
       "      <td>kgU</td>\n",
       "      <td>467.0</td>\n",
       "      <td>0.066704</td>\n",
       "      <td>69785.215</td>\n",
       "      <td>2834.457</td>\n",
       "      <td>1.04600</td>\n",
       "    </tr>\n",
       "    <tr>\n",
       "      <td>6026</td>\n",
       "      <td>f1_fuel_1999_12_121_0_7</td>\n",
       "      <td>121</td>\n",
       "      <td>1999</td>\n",
       "      <td>bay front</td>\n",
       "      <td>coal</td>\n",
       "      <td>ton</td>\n",
       "      <td>74176.0</td>\n",
       "      <td>23.388000</td>\n",
       "      <td>40.350</td>\n",
       "      <td>37.280</td>\n",
       "      <td>1.73000</td>\n",
       "    </tr>\n",
       "    <tr>\n",
       "      <td>1458</td>\n",
       "      <td>f1_fuel_1995_12_145_1_8</td>\n",
       "      <td>145</td>\n",
       "      <td>1995</td>\n",
       "      <td>hayden</td>\n",
       "      <td>oil</td>\n",
       "      <td>bbl</td>\n",
       "      <td>957.0</td>\n",
       "      <td>5.568024</td>\n",
       "      <td>53.580</td>\n",
       "      <td>26.640</td>\n",
       "      <td>9.62200</td>\n",
       "    </tr>\n",
       "    <tr>\n",
       "      <td>18527</td>\n",
       "      <td>f1_fuel_2009_12_161_1_13</td>\n",
       "      <td>161</td>\n",
       "      <td>2009</td>\n",
       "      <td>grapeland peaker</td>\n",
       "      <td>gas</td>\n",
       "      <td>mcf</td>\n",
       "      <td>20130.0</td>\n",
       "      <td>1.023000</td>\n",
       "      <td>4.149</td>\n",
       "      <td>4.149</td>\n",
       "      <td>4.05700</td>\n",
       "    </tr>\n",
       "    <tr>\n",
       "      <td>14049</td>\n",
       "      <td>f1_fuel_2005_12_195_4_11</td>\n",
       "      <td>195</td>\n",
       "      <td>2005</td>\n",
       "      <td>columbia 1 &amp; 2</td>\n",
       "      <td>oil</td>\n",
       "      <td>bbl</td>\n",
       "      <td>7711.0</td>\n",
       "      <td>5.832750</td>\n",
       "      <td>70.500</td>\n",
       "      <td>75.190</td>\n",
       "      <td>11.91400</td>\n",
       "    </tr>\n",
       "    <tr>\n",
       "      <td>23436</td>\n",
       "      <td>f1_fuel_2013_12_178_0_4</td>\n",
       "      <td>178</td>\n",
       "      <td>2013</td>\n",
       "      <td>miami fort 6</td>\n",
       "      <td>coal</td>\n",
       "      <td>ton</td>\n",
       "      <td>489094.0</td>\n",
       "      <td>23.472000</td>\n",
       "      <td>53.481</td>\n",
       "      <td>52.734</td>\n",
       "      <td>2.27800</td>\n",
       "    </tr>\n",
       "    <tr>\n",
       "      <td>8572</td>\n",
       "      <td>f1_fuel_2001_12_57_3_9</td>\n",
       "      <td>57</td>\n",
       "      <td>2001</td>\n",
       "      <td>mitchell no. 4</td>\n",
       "      <td>oil</td>\n",
       "      <td>bbl</td>\n",
       "      <td>27169.0</td>\n",
       "      <td>5.817000</td>\n",
       "      <td>38.766</td>\n",
       "      <td>38.766</td>\n",
       "      <td>6.66500</td>\n",
       "    </tr>\n",
       "    <tr>\n",
       "      <td>20888</td>\n",
       "      <td>f1_fuel_2011_12_288_0_4</td>\n",
       "      <td>288</td>\n",
       "      <td>2011</td>\n",
       "      <td>black mountain</td>\n",
       "      <td>gas</td>\n",
       "      <td>mcf</td>\n",
       "      <td>209843.0</td>\n",
       "      <td>1.010000</td>\n",
       "      <td>11.483</td>\n",
       "      <td>11.483</td>\n",
       "      <td>11.34600</td>\n",
       "    </tr>\n",
       "    <tr>\n",
       "      <td>5638</td>\n",
       "      <td>f1_fuel_1998_12_186_0_13</td>\n",
       "      <td>186</td>\n",
       "      <td>1998</td>\n",
       "      <td>possum point</td>\n",
       "      <td>coal</td>\n",
       "      <td>ton</td>\n",
       "      <td>829001.0</td>\n",
       "      <td>24.218000</td>\n",
       "      <td>35.045</td>\n",
       "      <td>34.580</td>\n",
       "      <td>1.46400</td>\n",
       "    </tr>\n",
       "    <tr>\n",
       "      <td>16523</td>\n",
       "      <td>f1_fuel_2007_12_100_0_15</td>\n",
       "      <td>100</td>\n",
       "      <td>2007</td>\n",
       "      <td>gerald andrus</td>\n",
       "      <td>oil</td>\n",
       "      <td>bbl</td>\n",
       "      <td>502957.0</td>\n",
       "      <td>6.528564</td>\n",
       "      <td>61.616</td>\n",
       "      <td>0.000</td>\n",
       "      <td>9.43800</td>\n",
       "    </tr>\n",
       "    <tr>\n",
       "      <td>12497</td>\n",
       "      <td>f1_fuel_2004_12_147_0_13</td>\n",
       "      <td>147</td>\n",
       "      <td>2004</td>\n",
       "      <td>palo verde (1)</td>\n",
       "      <td>nuclear</td>\n",
       "      <td>kgU</td>\n",
       "      <td>453.0</td>\n",
       "      <td>0.066704</td>\n",
       "      <td>31825.840</td>\n",
       "      <td>1180.630</td>\n",
       "      <td>0.51100</td>\n",
       "    </tr>\n",
       "    <tr>\n",
       "      <td>18970</td>\n",
       "      <td>f1_fuel_2009_12_27_0_13</td>\n",
       "      <td>27</td>\n",
       "      <td>2009</td>\n",
       "      <td>stuart deo</td>\n",
       "      <td>coal</td>\n",
       "      <td>ton</td>\n",
       "      <td>2543176.0</td>\n",
       "      <td>22.204000</td>\n",
       "      <td>53.765</td>\n",
       "      <td>53.977</td>\n",
       "      <td>2.42100</td>\n",
       "    </tr>\n",
       "    <tr>\n",
       "      <td>20496</td>\n",
       "      <td>f1_fuel_2010_12_57_1_3</td>\n",
       "      <td>57</td>\n",
       "      <td>2010</td>\n",
       "      <td>mcdonough</td>\n",
       "      <td>oil</td>\n",
       "      <td>bbl</td>\n",
       "      <td>4899.0</td>\n",
       "      <td>5.817000</td>\n",
       "      <td>64.176</td>\n",
       "      <td>64.176</td>\n",
       "      <td>10.90200</td>\n",
       "    </tr>\n",
       "    <tr>\n",
       "      <td>15986</td>\n",
       "      <td>f1_fuel_2007_12_148_0_13</td>\n",
       "      <td>148</td>\n",
       "      <td>2007</td>\n",
       "      <td>comanche</td>\n",
       "      <td>gas</td>\n",
       "      <td>mcf</td>\n",
       "      <td>9559258.0</td>\n",
       "      <td>1.050000</td>\n",
       "      <td>6.892</td>\n",
       "      <td>6.892</td>\n",
       "      <td>6.56400</td>\n",
       "    </tr>\n",
       "  </tbody>\n",
       "</table>\n",
       "</div>"
      ],
      "text/plain": [
       "                      record_id  utility_id_ferc1  report_year  \\\n",
       "13025  f1_fuel_2004_12_120_0_13               120         2004   \n",
       "25336    f1_fuel_2014_12_45_0_4                45         2014   \n",
       "10471  f1_fuel_2002_12_108_0_10               108         2002   \n",
       "9681     f1_fuel_2002_12_63_1_6                63         2002   \n",
       "17567    f1_fuel_2008_12_56_3_5                56         2008   \n",
       "8532    f1_fuel_2001_12_56_1_15                56         2001   \n",
       "14683    f1_fuel_2006_12_27_2_2                27         2006   \n",
       "6595    f1_fuel_1999_12_193_1_3               193         1999   \n",
       "9716    f1_fuel_2002_12_146_1_1               146         2002   \n",
       "5411    f1_fuel_1998_12_135_0_4               135         1998   \n",
       "14368   f1_fuel_2005_12_114_0_3               114         2005   \n",
       "12102    f1_fuel_2004_12_44_5_6                44         2004   \n",
       "4170    f1_fuel_1997_12_176_0_7               176         1997   \n",
       "8168   f1_fuel_2001_12_195_3_10               195         2001   \n",
       "10483    f1_fuel_2002_12_17_0_8                17         2002   \n",
       "8688     f1_fuel_2001_12_99_1_4                99         2001   \n",
       "9616     f1_fuel_2002_12_27_2_9                27         2002   \n",
       "15339     f1_fuel_2006_12_8_1_8                 8         2006   \n",
       "3203     f1_fuel_1996_12_7_1_11                 7         1996   \n",
       "20191  f1_fuel_2010_12_193_0_10               193         2010   \n",
       "8838    f1_fuel_2001_12_164_1_4               164         2001   \n",
       "16792   f1_fuel_2007_12_194_1_1               194         2007   \n",
       "12364    f1_fuel_2004_12_98_0_4                98         2004   \n",
       "18307    f1_fuel_2009_12_31_0_5                31         2009   \n",
       "25007   f1_fuel_2014_12_56_3_10                56         2014   \n",
       "18705   f1_fuel_2009_12_171_0_4               171         2009   \n",
       "21018  f1_fuel_2011_12_159_0_14               159         2011   \n",
       "27969    f1_fuel_2017_12_81_0_8                81         2017   \n",
       "19204   f1_fuel_2009_12_186_5_1               186         2009   \n",
       "5033    f1_fuel_1998_12_143_1_7               143         1998   \n",
       "19560  f1_fuel_2010_12_191_0_14               191         2010   \n",
       "10737   f1_fuel_2003_12_193_2_9               193         2003   \n",
       "22960    f1_fuel_2012_12_7_1_13                 7         2012   \n",
       "22184  f1_fuel_2012_12_134_2_13               134         2012   \n",
       "11555    f1_fuel_2003_12_45_0_8                45         2003   \n",
       "1637    f1_fuel_1995_12_68_1_10                68         1995   \n",
       "21483    f1_fuel_2011_12_7_7_13                 7         2011   \n",
       "6026    f1_fuel_1999_12_121_0_7               121         1999   \n",
       "1458    f1_fuel_1995_12_145_1_8               145         1995   \n",
       "18527  f1_fuel_2009_12_161_1_13               161         2009   \n",
       "14049  f1_fuel_2005_12_195_4_11               195         2005   \n",
       "23436   f1_fuel_2013_12_178_0_4               178         2013   \n",
       "8572     f1_fuel_2001_12_57_3_9                57         2001   \n",
       "20888   f1_fuel_2011_12_288_0_4               288         2011   \n",
       "5638   f1_fuel_1998_12_186_0_13               186         1998   \n",
       "16523  f1_fuel_2007_12_100_0_15               100         2007   \n",
       "12497  f1_fuel_2004_12_147_0_13               147         2004   \n",
       "18970   f1_fuel_2009_12_27_0_13                27         2009   \n",
       "20496    f1_fuel_2010_12_57_1_3                57         2010   \n",
       "15986  f1_fuel_2007_12_148_0_13               148         2007   \n",
       "\n",
       "           plant_name_ferc1 fuel_type_code_pudl fuel_unit  fuel_qty_burned  \\\n",
       "13025             riverside                coal       ton        1249268.0   \n",
       "25336              marshall                coal       ton        3592716.0   \n",
       "10471          mohave 1 & 2                coal       ton         659090.0   \n",
       "9681                 sabine                 oil       bbl            157.0   \n",
       "17567              martin 8                 gas       mcf       47784529.0   \n",
       "8532        port everglades                 gas       mcf        9536398.0   \n",
       "14683            stuart cge                 oil       bbl          23760.0   \n",
       "6595   pleasant prairie-tot                coal       ton        5450159.0   \n",
       "9716            lost nation                 oil       bbl           2852.0   \n",
       "5411                 cromby                coal       ton         322139.0   \n",
       "14368               michoud                 oil       bbl           5927.0   \n",
       "12102             greenwood                 gas       mcf          69011.0   \n",
       "4170           four corners                coal       ton         378798.0   \n",
       "8168     plant total-weston                coal       ton        1970183.0   \n",
       "10483    w. h. weatherspoon                coal       ton         362822.0   \n",
       "8688                 sweatt                 gas       mcf          73709.0   \n",
       "9616     east bend #2-total                 oil       bbl          38979.0   \n",
       "15339  arkansas nuclear one             nuclear     mwhth       45784381.0   \n",
       "3203           navajo 1,2,3                 oil       bbl           5170.0   \n",
       "20191      germantown-total                 oil       bbl           7181.0   \n",
       "8838       *flint creek (1)                coal       ton        1378570.0   \n",
       "16792   columbia energy ctr                coal       ton        4455807.0   \n",
       "12364                laskin                coal       ton         424921.0   \n",
       "18307                picway                 oil       bbl           2594.0   \n",
       "25007               manatee                 gas       mcf       42967018.0   \n",
       "18705                unit 4                coal       ton        1006241.0   \n",
       "21018               canadys                 gas       mcf          79232.0   \n",
       "27969       mitchell- total                 oil       bbl          37260.0   \n",
       "19204       possum point ct                 oil       bbl           2168.0   \n",
       "5033            chalk point                coal       ton        1485468.0   \n",
       "19560            hutchinson                 oil       bbl            442.0   \n",
       "10737           paris-total                 oil       bbl           2151.0   \n",
       "22960        four corners 4                coal       ton         398200.0   \n",
       "22184          gadsby steam                 gas       mcf        1818972.0   \n",
       "11555                 allen                 oil       bbl          21553.0   \n",
       "1637           t.h. wharton                 gas       mcf        3275302.0   \n",
       "21483          palo verde 2             nuclear       kgU            467.0   \n",
       "6026              bay front                coal       ton          74176.0   \n",
       "1458                 hayden                 oil       bbl            957.0   \n",
       "18527      grapeland peaker                 gas       mcf          20130.0   \n",
       "14049        columbia 1 & 2                 oil       bbl           7711.0   \n",
       "23436          miami fort 6                coal       ton         489094.0   \n",
       "8572         mitchell no. 4                 oil       bbl          27169.0   \n",
       "20888        black mountain                 gas       mcf         209843.0   \n",
       "5638           possum point                coal       ton         829001.0   \n",
       "16523         gerald andrus                 oil       bbl         502957.0   \n",
       "12497        palo verde (1)             nuclear       kgU            453.0   \n",
       "18970            stuart deo                coal       ton        2543176.0   \n",
       "20496             mcdonough                 oil       bbl           4899.0   \n",
       "15986              comanche                 gas       mcf        9559258.0   \n",
       "\n",
       "       fuel_mmbtu_per_unit  fuel_cost_per_unit_burned  \\\n",
       "13025            18.392000                     22.193   \n",
       "25336            24.412000                     93.610   \n",
       "10471            21.924251                     28.736   \n",
       "9681              5.872608                     31.465   \n",
       "17567             1.032436                     10.451   \n",
       "8532              1.000000                      4.022   \n",
       "14683             5.770758                     86.762   \n",
       "6595             16.774000                     12.254   \n",
       "9716              5.818848                     33.137   \n",
       "5411             25.638000                     43.200   \n",
       "14368             6.512562                    191.381   \n",
       "12102             1.006000                      7.492   \n",
       "4170             17.712000                     16.668   \n",
       "8168             17.266000                     18.930   \n",
       "10483            25.176000                     52.406   \n",
       "8688              1.000000                     12.818   \n",
       "9616              5.712420                     31.795   \n",
       "15339             3.412600                      1.849   \n",
       "3203              5.856858                     29.390   \n",
       "20191             5.817000                     95.621   \n",
       "8838             16.598000                     24.298   \n",
       "16792            16.982000                     22.780   \n",
       "12364            18.898000                     20.017   \n",
       "18307             5.821620                     72.291   \n",
       "25007             1.015678                      5.382   \n",
       "18705            21.328000                     36.130   \n",
       "21018             1.045000                      4.834   \n",
       "27969             5.641734                     70.366   \n",
       "19204             5.813556                     87.510   \n",
       "5033             26.088000                     43.536   \n",
       "19560             5.815452                     49.660   \n",
       "10737             5.817000                     38.421   \n",
       "22960            18.404000                     34.673   \n",
       "22184             1.045000                      7.824   \n",
       "11555             5.794068                     36.622   \n",
       "1637              1.020000                      1.695   \n",
       "21483             0.066704                  69785.215   \n",
       "6026             23.388000                     40.350   \n",
       "1458              5.568024                     53.580   \n",
       "18527             1.023000                      4.149   \n",
       "14049             5.832750                     70.500   \n",
       "23436            23.472000                     53.481   \n",
       "8572              5.817000                     38.766   \n",
       "20888             1.010000                     11.483   \n",
       "5638             24.218000                     35.045   \n",
       "16523             6.528564                     61.616   \n",
       "12497             0.066704                  31825.840   \n",
       "18970            22.204000                     53.765   \n",
       "20496             5.817000                     64.176   \n",
       "15986             1.050000                      6.892   \n",
       "\n",
       "       fuel_cost_per_unit_delivered  fuel_cost_per_mmbtu  \n",
       "13025                        19.925              1.20700  \n",
       "25336                        89.980              3.83500  \n",
       "10471                        28.742              1.31100  \n",
       "9681                          0.000              5.35800  \n",
       "17567                        10.451             10.45100  \n",
       "8532                          4.022              4.02200  \n",
       "14683                        87.206             15.03500  \n",
       "6595                         12.254              0.73052  \n",
       "9716                         33.671              5.69500  \n",
       "5411                         38.970              1.68500  \n",
       "14368                         0.000             29.38600  \n",
       "12102                         6.992              7.44700  \n",
       "4170                         16.668              0.94100  \n",
       "8168                         17.250              1.07700  \n",
       "10483                        53.097              2.08200  \n",
       "8688                          0.000             12.37800  \n",
       "9616                         32.075              5.56600  \n",
       "15339                         0.000              0.54200  \n",
       "3203                         29.390              5.02000  \n",
       "20191                        96.621             16.43904  \n",
       "8838                         24.298              1.46000  \n",
       "16792                        22.780              1.34200  \n",
       "12364                        20.141              1.05900  \n",
       "18307                        74.070             12.41800  \n",
       "25007                         5.382              5.38200  \n",
       "18705                        36.130              1.69000  \n",
       "21018                         4.834              4.62500  \n",
       "27969                        76.892             12.47200  \n",
       "19204                        50.030             14.88000  \n",
       "5033                         41.972              1.66900  \n",
       "19560                         0.000              8.54000  \n",
       "10737                        38.421              6.60511  \n",
       "22960                        33.607              1.88400  \n",
       "22184                         7.824              7.48900  \n",
       "11555                        35.456              6.31100  \n",
       "1637                          1.649              1.66100  \n",
       "21483                      2834.457              1.04600  \n",
       "6026                         37.280              1.73000  \n",
       "1458                         26.640              9.62200  \n",
       "18527                         4.149              4.05700  \n",
       "14049                        75.190             11.91400  \n",
       "23436                        52.734              2.27800  \n",
       "8572                         38.766              6.66500  \n",
       "20888                        11.483             11.34600  \n",
       "5638                         34.580              1.46400  \n",
       "16523                         0.000              9.43800  \n",
       "12497                      1180.630              0.51100  \n",
       "18970                        53.977              2.42100  \n",
       "20496                        64.176             10.90200  \n",
       "15986                         6.892              6.56400  "
      ]
     },
     "execution_count": 306,
     "metadata": {},
     "output_type": "execute_result"
    }
   ],
   "source": [
    "sample_df"
   ]
  },
  {
   "cell_type": "code",
   "execution_count": 315,
   "metadata": {},
   "outputs": [
    {
     "data": {
      "image/png": "[encoded data removed]",
      "text/plain": [
       "<Figure size 720x72 with 1 Axes>"
      ]
     },
     "metadata": {
      "needs_background": "light"
     },
     "output_type": "display_data"
    }
   ],
   "source": [
    "import seaborn as sns;\n",
    "sns.palplot(sns.color_palette())"
   ]
  },
  {
   "cell_type": "code",
   "execution_count": 365,
   "metadata": {},
   "outputs": [
    {
     "data": {
      "image/png": "[encoded data removed]",
      "text/plain": [
       "<Figure size 432x288 with 1 Axes>"
      ]
     },
     "metadata": {},
     "output_type": "display_data"
    }
   ],
   "source": [
    "import matplotlib.pyplot as plt\n",
    "import seaborn as sns; sns.set()\n",
    "sns.set_color_codes('dark')\n",
    "_ = plt.plot([0, 1],[0,2], color=\"grey\")"
   ]
  },
  {
   "cell_type": "code",
   "execution_count": 407,
   "metadata": {},
   "outputs": [
    {
     "name": "stdout",
     "output_type": "stream",
     "text": [
      "AAA= 1024\n"
     ]
    }
   ],
   "source": [
    "print('AAA=', 2**10)"
   ]
  },
  {
   "cell_type": "code",
   "execution_count": 410,
   "metadata": {},
   "outputs": [
    {
     "data": {
      "text/plain": [
       "array([[-1.63772044, -0.9663294 , -0.26138654],\n",
       "       [-0.30639898,  1.52855098,  2.10412227],\n",
       "       [ 0.67317907, -2.34721441,  0.15779291],\n",
       "       [ 0.64221254, -0.38900528,  1.37732958]])"
      ]
     },
     "execution_count": 410,
     "metadata": {},
     "output_type": "execute_result"
    }
   ],
   "source": [
    "a = np.random.randn(4, 3)\n",
    "a"
   ]
  },
  {
   "cell_type": "code",
   "execution_count": 412,
   "metadata": {},
   "outputs": [
    {
     "name": "stderr",
     "output_type": "stream",
     "text": [
      "C:\\Users\\yemit\\Anaconda3\\lib\\site-packages\\ipykernel_launcher.py:3: FutureWarning: The Panel class is removed from pandas. Accessing it from the top-level namespace will also be removed in the next version\n",
      "  This is separate from the ipykernel package so we can avoid doing imports until\n"
     ]
    },
    {
     "ename": "TypeError",
     "evalue": "Panel() takes no arguments",
     "output_type": "error",
     "traceback": [
      "\u001b[1;31m---------------------------------------------------------------------------\u001b[0m",
      "\u001b[1;31mTypeError\u001b[0m                                 Traceback (most recent call last)",
      "\u001b[1;32m<ipython-input-412-1bb11034d623>\u001b[0m in \u001b[0;36m<module>\u001b[1;34m\u001b[0m\n\u001b[0;32m      1\u001b[0m data = {'Item1' : pd.DataFrame(np.random.randn(4, 3)), \n\u001b[0;32m      2\u001b[0m    'Item2' : pd.DataFrame(np.random.randn(4, 2))}\n\u001b[1;32m----> 3\u001b[1;33m \u001b[0mp\u001b[0m \u001b[1;33m=\u001b[0m \u001b[0mpd\u001b[0m\u001b[1;33m.\u001b[0m\u001b[0mPanel\u001b[0m\u001b[1;33m(\u001b[0m\u001b[0mdata\u001b[0m\u001b[1;33m)\u001b[0m\u001b[1;33m\u001b[0m\u001b[1;33m\u001b[0m\u001b[0m\n\u001b[0m\u001b[0;32m      4\u001b[0m \u001b[0mprint\u001b[0m\u001b[1;33m(\u001b[0m\u001b[0mp\u001b[0m\u001b[1;33m)\u001b[0m\u001b[1;33m\u001b[0m\u001b[1;33m\u001b[0m\u001b[0m\n",
      "\u001b[1;31mTypeError\u001b[0m: Panel() takes no arguments"
     ]
    }
   ],
   "source": [
    "data = {'Item1' : pd.DataFrame(np.random.randn(4, 3)), \n",
    "   'Item2' : pd.DataFrame(np.random.randn(4, 2))}\n",
    "p = pd.Panel(data)\n",
    "print(p)"
   ]
  },
  {
   "cell_type": "code",
   "execution_count": 413,
   "metadata": {},
   "outputs": [
    {
     "data": {
      "text/plain": [
       "324753"
      ]
     },
     "execution_count": 413,
     "metadata": {},
     "output_type": "execute_result"
    }
   ],
   "source": [
    "df.size"
   ]
  },
  {
   "cell_type": "code",
   "execution_count": 414,
   "metadata": {},
   "outputs": [
    {
     "data": {
      "text/plain": [
       "29523"
      ]
     },
     "execution_count": 414,
     "metadata": {},
     "output_type": "execute_result"
    }
   ],
   "source": [
    "len(df)"
   ]
  },
  {
   "cell_type": "code",
   "execution_count": 431,
   "metadata": {},
   "outputs": [],
   "source": [
    "x, y = df.shape"
   ]
  },
  {
   "cell_type": "code",
   "execution_count": 432,
   "metadata": {},
   "outputs": [
    {
     "data": {
      "text/plain": [
       "324753"
      ]
     },
     "execution_count": 432,
     "metadata": {},
     "output_type": "execute_result"
    }
   ],
   "source": [
    "x*y"
   ]
  },
  {
   "cell_type": "code",
   "execution_count": 460,
   "metadata": {},
   "outputs": [],
   "source": [
    "tup = (1, 2, 3)"
   ]
  },
  {
   "cell_type": "code",
   "execution_count": 461,
   "metadata": {},
   "outputs": [
    {
     "data": {
      "text/plain": [
       "[1, 2, 3]"
      ]
     },
     "execution_count": 461,
     "metadata": {},
     "output_type": "execute_result"
    }
   ],
   "source": [
    "list(tup)"
   ]
  },
  {
   "cell_type": "code",
   "execution_count": 462,
   "metadata": {},
   "outputs": [],
   "source": [
    "dic = {'a': 1, 'b':2}"
   ]
  },
  {
   "cell_type": "code",
   "execution_count": 469,
   "metadata": {},
   "outputs": [
    {
     "data": {
      "text/plain": [
       "[('a', 1), ('b', 2)]"
      ]
     },
     "execution_count": 469,
     "metadata": {},
     "output_type": "execute_result"
    }
   ],
   "source": [
    "[items for items in dic.items()]"
   ]
  },
  {
   "cell_type": "code",
   "execution_count": null,
   "metadata": {},
   "outputs": [],
   "source": []
  }
 ],
 "metadata": {
  "kernelspec": {
   "display_name": "Python 3",
   "language": "python",
   "name": "python3"
  },
  "language_info": {
   "codemirror_mode": {
    "name": "ipython",
    "version": 3
   },
   "file_extension": ".py",
   "mimetype": "text/x-python",
   "name": "python",
   "nbconvert_exporter": "python",
   "pygments_lexer": "ipython3",
   "version": "3.7.4"
  }
 },
 "nbformat": 4,
 "nbformat_minor": 2
}
